{
 "cells": [
  {
   "cell_type": "code",
   "execution_count": 93,
   "metadata": {},
   "outputs": [
    {
     "data": {
      "text/plain": [
       "<FileCapture ftp.pcapng>"
      ]
     },
     "execution_count": 93,
     "metadata": {},
     "output_type": "execute_result"
    }
   ],
   "source": [
    "import pyshark\n",
    "import time\n",
    "import nest_asyncio\n",
    "nest_asyncio.apply()\n",
    "# define capture object\n",
    "capture = pyshark.FileCapture('ftp.pcapng', display_filter=\"ftp\")\n",
    "capture"
   ]
  },
  {
   "cell_type": "code",
   "execution_count": 94,
   "metadata": {},
   "outputs": [
    {
     "name": "stdout",
     "output_type": "stream",
     "text": [
      "Packet (Length: 78)\n",
      "Layer ETH:\n",
      "\tDestination: 8c:16:45:8f:db:e3\n",
      "\tAddress: 8c:16:45:8f:db:e3\n",
      "\t.... ..0. .... .... .... .... = LG bit: Globally unique address (factory default)\n",
      "\t.... ...0 .... .... .... .... = IG bit: Individual address (unicast)\n",
      "\tSource: 8c:89:a5:27:72:e5\n",
      "\tType: IPv4 (0x0800)\n",
      "\tAddress: 8c:89:a5:27:72:e5\n",
      "\t.... ..0. .... .... .... .... = LG bit: Globally unique address (factory default)\n",
      "\t.... ...0 .... .... .... .... = IG bit: Individual address (unicast)\n",
      "Layer IP:\n",
      "\t0100 .... = Version: 4\n",
      "\t.... 0101 = Header Length: 20 bytes (5)\n",
      "\tDifferentiated Services Field: 0x10 (DSCP: Unknown, ECN: Not-ECT)\n",
      "\t0001 00.. = Differentiated Services Codepoint: Unknown (4)\n",
      "\t.... ..00 = Explicit Congestion Notification: Not ECN-Capable Transport (0)\n",
      "\tTotal Length: 64\n",
      "\tIdentification: 0x6cbc (27836)\n",
      "\tFlags: 0x4000, Don't fragment\n",
      "\t0... .... .... .... = Reserved bit: Not set\n",
      "\t.1.. .... .... .... = Don't fragment: Set\n",
      "\t..0. .... .... .... = More fragments: Not set\n",
      "\t...0 0000 0000 0000 = Fragment offset: 0\n",
      "\tTime to live: 64\n",
      "\tProtocol: TCP (6)\n",
      "\tHeader checksum: 0x02c9 [validation disabled]\n",
      "\tHeader checksum status: Unverified\n",
      "\tSource: 172.16.57.115\n",
      "\tDestination: 172.16.57.143\n",
      "Layer TCP:\n",
      "\tSource Port: 56540\n",
      "\tDestination Port: 21\n",
      "\tStream index: 2\n",
      "\tTCP Segment Len: 12\n",
      "\tSequence number: 1    (relative sequence number)\n",
      "\tNext sequence number: 13    (relative sequence number)\n",
      "\tAcknowledgment number: 37    (relative ack number)\n",
      "\t1000 .... = Header Length: 32 bytes (8)\n",
      "\tFlags: 0x018 (PSH, ACK)\n",
      "\t000. .... .... = Reserved: Not set\n",
      "\t...0 .... .... = Nonce: Not set\n",
      "\t.... 0... .... = Congestion Window Reduced (CWR): Not set\n",
      "\t.... .0.. .... = ECN-Echo: Not set\n",
      "\t.... ..0. .... = Urgent: Not set\n",
      "\t.... ...1 .... = Acknowledgment: Set\n",
      "\t.... .... 1... = Push: Set\n",
      "\t.... .... .0.. = Reset: Not set\n",
      "\t.... .... ..0. = Syn: Not set\n",
      "\t.... .... ...0 = Fin: Not set\n",
      "\tTCP Flags: \\xc2\\xb7\\xc2\\xb7\\xc2\\xb7\\xc2\\xb7\\xc2\\xb7\\xc2\\xb7\\xc2\\xb7AP\\xc2\\xb7\\xc2\\xb7\\xc2\\xb7\n",
      "\tWindow size value: 229\n",
      "\tCalculated window size: 29312\n",
      "\tWindow size scaling factor: 128\n",
      "\tChecksum: 0x0e13 [unverified]\n",
      "\tChecksum Status: Unverified\n",
      "\tUrgent pointer: 0\n",
      "\tOptions: (12 bytes), No-Operation (NOP), No-Operation (NOP), Timestamps\n",
      "\tTCP Option - No-Operation (NOP)\n",
      "\tKind: No-Operation (1)\n",
      "\tTCP Option - Timestamps: TSval 1624691, TSecr 1851266282\n",
      "\tLength: 10\n",
      "\tTimestamp value: 1624691\n",
      "\tTimestamp echo reply: 1851266282\n",
      "\tSEQ/ACK analysis\n",
      "\tiRTT: 0.000355372 seconds\n",
      "\tBytes in flight: 12\n",
      "\tBytes sent since last PSH flag: 12\n",
      "\tTimestamps\n",
      "\tTime since first frame in this TCP stream: 16.001904903 seconds\n",
      "\tTime since previous frame in this TCP stream: 15.996159515 seconds\n",
      "\tTCP payload (12 bytes)\n",
      "\tTCP Option - No-Operation (NOP)\n",
      "\tKind: No-Operation (1)\n",
      "\tKind: Time Stamp Option (8)\n",
      "Layer FTP:\n",
      "\tUSER nplab\\r\\n\n",
      "\tRequest command: USER\n",
      "\tRequest arg: nplab\n",
      "DATA\n"
     ]
    }
   ],
   "source": [
    "print(capture[1])"
   ]
  },
  {
   "cell_type": "code",
   "execution_count": 95,
   "metadata": {},
   "outputs": [
    {
     "data": {
      "text/plain": [
       "'56540'"
      ]
     },
     "execution_count": 95,
     "metadata": {},
     "output_type": "execute_result"
    }
   ],
   "source": [
    "src=capture[1].tcp.srcport\n",
    "src"
   ]
  },
  {
   "cell_type": "code",
   "execution_count": 96,
   "metadata": {},
   "outputs": [
    {
     "data": {
      "text/plain": [
       "'21'"
      ]
     },
     "execution_count": 96,
     "metadata": {},
     "output_type": "execute_result"
    }
   ],
   "source": [
    "dst=capture[1].tcp.dstport\n",
    "dst"
   ]
  },
  {
   "cell_type": "code",
   "execution_count": 97,
   "metadata": {},
   "outputs": [],
   "source": [
    "seq=[]\n",
    "ack=[]\n",
    "for pkt in capture:\n",
    "    seq.append(pkt.tcp.seq)\n",
    "    ack.append(pkt.tcp.ack)"
   ]
  },
  {
   "cell_type": "code",
   "execution_count": 98,
   "metadata": {},
   "outputs": [],
   "source": [
    "import pandas as pd"
   ]
  },
  {
   "cell_type": "code",
   "execution_count": 99,
   "metadata": {},
   "outputs": [],
   "source": [
    "df=pd.read_csv('cn.csv')"
   ]
  },
  {
   "cell_type": "code",
   "execution_count": 100,
   "metadata": {},
   "outputs": [
    {
     "data": {
      "text/html": [
       "<div>\n",
       "<style scoped>\n",
       "    .dataframe tbody tr th:only-of-type {\n",
       "        vertical-align: middle;\n",
       "    }\n",
       "\n",
       "    .dataframe tbody tr th {\n",
       "        vertical-align: top;\n",
       "    }\n",
       "\n",
       "    .dataframe thead th {\n",
       "        text-align: right;\n",
       "    }\n",
       "</style>\n",
       "<table border=\"1\" class=\"dataframe\">\n",
       "  <thead>\n",
       "    <tr style=\"text-align: right;\">\n",
       "      <th></th>\n",
       "      <th>No.</th>\n",
       "      <th>Time</th>\n",
       "      <th>Source</th>\n",
       "      <th>Destination</th>\n",
       "      <th>Protocol</th>\n",
       "      <th>Length</th>\n",
       "      <th>Info</th>\n",
       "    </tr>\n",
       "  </thead>\n",
       "  <tbody>\n",
       "    <tr>\n",
       "      <td>0</td>\n",
       "      <td>116</td>\n",
       "      <td>16.263292</td>\n",
       "      <td>172.16.57.143</td>\n",
       "      <td>172.16.57.115</td>\n",
       "      <td>FTP</td>\n",
       "      <td>102</td>\n",
       "      <td>Response: 220 Welcome to MANTRA FTP service.</td>\n",
       "    </tr>\n",
       "    <tr>\n",
       "      <td>1</td>\n",
       "      <td>267</td>\n",
       "      <td>32.259493</td>\n",
       "      <td>172.16.57.115</td>\n",
       "      <td>172.16.57.143</td>\n",
       "      <td>FTP</td>\n",
       "      <td>78</td>\n",
       "      <td>Request: USER nplab</td>\n",
       "    </tr>\n",
       "    <tr>\n",
       "      <td>2</td>\n",
       "      <td>269</td>\n",
       "      <td>32.260387</td>\n",
       "      <td>172.16.57.143</td>\n",
       "      <td>172.16.57.115</td>\n",
       "      <td>FTP</td>\n",
       "      <td>100</td>\n",
       "      <td>Response: 331 Please specify the password.</td>\n",
       "    </tr>\n",
       "    <tr>\n",
       "      <td>3</td>\n",
       "      <td>342</td>\n",
       "      <td>44.642440</td>\n",
       "      <td>172.16.57.115</td>\n",
       "      <td>172.16.57.143</td>\n",
       "      <td>FTP</td>\n",
       "      <td>84</td>\n",
       "      <td>Request: PASS manipal@123</td>\n",
       "    </tr>\n",
       "    <tr>\n",
       "      <td>4</td>\n",
       "      <td>344</td>\n",
       "      <td>44.670059</td>\n",
       "      <td>172.16.57.143</td>\n",
       "      <td>172.16.57.115</td>\n",
       "      <td>FTP</td>\n",
       "      <td>89</td>\n",
       "      <td>Response: 230 Login successful.</td>\n",
       "    </tr>\n",
       "  </tbody>\n",
       "</table>\n",
       "</div>"
      ],
      "text/plain": [
       "   No.       Time         Source    Destination Protocol  Length  \\\n",
       "0  116  16.263292  172.16.57.143  172.16.57.115      FTP     102   \n",
       "1  267  32.259493  172.16.57.115  172.16.57.143      FTP      78   \n",
       "2  269  32.260387  172.16.57.143  172.16.57.115      FTP     100   \n",
       "3  342  44.642440  172.16.57.115  172.16.57.143      FTP      84   \n",
       "4  344  44.670059  172.16.57.143  172.16.57.115      FTP      89   \n",
       "\n",
       "                                           Info  \n",
       "0  Response: 220 Welcome to MANTRA FTP service.  \n",
       "1                           Request: USER nplab  \n",
       "2    Response: 331 Please specify the password.  \n",
       "3                     Request: PASS manipal@123  \n",
       "4               Response: 230 Login successful.  "
      ]
     },
     "execution_count": 100,
     "metadata": {},
     "output_type": "execute_result"
    }
   ],
   "source": [
    "df.head()"
   ]
  },
  {
   "cell_type": "code",
   "execution_count": 101,
   "metadata": {},
   "outputs": [],
   "source": [
    "dt=df['Info']\n",
    "dp=df['Time']\n",
    "dl=df['Length']"
   ]
  },
  {
   "cell_type": "code",
   "execution_count": 102,
   "metadata": {},
   "outputs": [
    {
     "name": "stdout",
     "output_type": "stream",
     "text": [
      "Time\t 172.16.57.143 \t\t 172.16.57.115 \t\t\t\tComments\n",
      "\t\t\tLen: 102\n",
      "16.26 |\t( 56540 )|<---------------|( 21 )|Seq: 1 Ack: 1 | Response: 220 Welcome to MANTRA FTP service.\n",
      "\t\t\tLen: 78\n",
      "32.26 |\t( 56540 )|--------------->|( 21 )|Seq: 1 Ack: 37 | Request: USER nplab\n",
      "\t\t\tLen: 100\n",
      "32.26 |\t( 56540 )|<---------------|( 21 )|Seq: 37 Ack: 13 | Response: 331 Please specify the password.\n",
      "\t\t\tLen: 84\n",
      "44.64 |\t( 56540 )|--------------->|( 21 )|Seq: 13 Ack: 71 | Request: PASS manipal@123\n",
      "\t\t\tLen: 89\n",
      "44.67 |\t( 56540 )|<---------------|( 21 )|Seq: 71 Ack: 31 | Response: 230 Login successful.\n",
      "\t\t\tLen: 72\n",
      "44.67 |\t( 56540 )|--------------->|( 21 )|Seq: 31 Ack: 94 | Request: SYST\n",
      "\t\t\tLen: 85\n",
      "44.67 |\t( 56540 )|<---------------|( 21 )|Seq: 94 Ack: 37 | Response: 215 UNIX Type: L8\n",
      "\t\t\tLen: 76\n",
      "54.80 |\t( 56540 )|--------------->|( 21 )|Seq: 37 Ack: 113 | Request: MKD mini\n",
      "\t\t\tLen: 87\n",
      "54.80 |\t( 56540 )|<---------------|( 21 )|Seq: 113 Ack: 47 | Response: 257 \"/mini\" created\n",
      "\t\t\tLen: 72\n",
      "58.57 |\t( 56540 )|--------------->|( 21 )|Seq: 47 Ack: 134 | Request: QUIT\n",
      "\t\t\tLen: 80\n",
      "58.57 |\t( 56540 )|<---------------|( 21 )|Seq: 134 Ack: 53 | Response: 221 Goodbye.\n",
      "\t\t\tLen: 80\n",
      "60.16 |\t( 56540 )|--------------->|( 21 )|Seq: 1 Ack: 1 | Response: 421 Timeout.\n"
     ]
    }
   ],
   "source": [
    "print('Time\\t',df['Source'][0],'\\t\\t',df['Destination'][0],'\\t\\t\\t\\tComments')\n",
    "for x in range(0,11,2):\n",
    "    print('\\t\\t\\tLen:',dl[x])\n",
    "    print(\"{:.2f}\".format(dp[x]),'|\\t(',src,')|<---------------|(',dst,')|Seq:',seq[x],'Ack:',ack[x],'|',dt[x])\n",
    "    print('\\t\\t\\tLen:',dl[x+1])\n",
    "    print(\"{:.2f}\".format(dp[x+1]),'|\\t(',src,')|--------------->|(',dst,')|Seq:',seq[x+1],'Ack:',ack[x+1],'|',dt[x+1])"
   ]
  },
  {
   "cell_type": "code",
   "execution_count": null,
   "metadata": {},
   "outputs": [],
   "source": []
  },
  {
   "cell_type": "code",
   "execution_count": null,
   "metadata": {},
   "outputs": [],
   "source": []
  },
  {
   "cell_type": "code",
   "execution_count": null,
   "metadata": {},
   "outputs": [],
   "source": []
  }
 ],
 "metadata": {
  "kernelspec": {
   "display_name": "Python 3",
   "language": "python",
   "name": "python3"
  },
  "language_info": {
   "codemirror_mode": {
    "name": "ipython",
    "version": 3
   },
   "file_extension": ".py",
   "mimetype": "text/x-python",
   "name": "python",
   "nbconvert_exporter": "python",
   "pygments_lexer": "ipython3",
   "version": "3.6.9"
  }
 },
 "nbformat": 4,
 "nbformat_minor": 2
}
